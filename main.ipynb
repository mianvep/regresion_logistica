{
 "cells": [
  {
   "cell_type": "code",
   "execution_count": 4,
   "id": "initial_id",
   "metadata": {
    "collapsed": true,
    "ExecuteTime": {
     "end_time": "2023-12-06T15:41:49.772353200Z",
     "start_time": "2023-12-06T15:41:45.222199900Z"
    }
   },
   "outputs": [],
   "source": [
    "import pandas as pd"
   ]
  },
  {
   "cell_type": "code",
   "execution_count": 5,
   "outputs": [
    {
     "data": {
      "text/plain": "           ID Muestra  Oro (g/t)  Plata (g/t)  Cobre (%)  Plomo (%)   Zinc (%)\n0           Muestra_1   8.025101   431.249577   4.518215   7.670685   5.367539\n1           Muestra_2   0.548552   380.263364   3.699061   6.159646   1.316805\n2           Muestra_3  14.262982   146.486910   4.524591   9.697989  12.551556\n3           Muestra_4  12.878724   221.625877   2.816365   2.969758  11.073858\n4           Muestra_5   4.100613   357.633695   0.639888   5.578079   5.513297\n...               ...        ...          ...        ...        ...        ...\n99995   Muestra_99996   3.366599   193.452397   2.824527   1.441047  14.003040\n99996   Muestra_99997  17.476037    64.076307   2.300197   1.682691   5.257053\n99997   Muestra_99998  14.116685   115.946513   3.574151   9.445927  12.692747\n99998   Muestra_99999   7.779599   354.874164   4.003477   1.927404   8.211133\n99999  Muestra_100000  11.715476   334.425710   1.251628   5.673756   7.240216\n\n[100000 rows x 6 columns]",
      "text/html": "<div>\n<style scoped>\n    .dataframe tbody tr th:only-of-type {\n        vertical-align: middle;\n    }\n\n    .dataframe tbody tr th {\n        vertical-align: top;\n    }\n\n    .dataframe thead th {\n        text-align: right;\n    }\n</style>\n<table border=\"1\" class=\"dataframe\">\n  <thead>\n    <tr style=\"text-align: right;\">\n      <th></th>\n      <th>ID Muestra</th>\n      <th>Oro (g/t)</th>\n      <th>Plata (g/t)</th>\n      <th>Cobre (%)</th>\n      <th>Plomo (%)</th>\n      <th>Zinc (%)</th>\n    </tr>\n  </thead>\n  <tbody>\n    <tr>\n      <th>0</th>\n      <td>Muestra_1</td>\n      <td>8.025101</td>\n      <td>431.249577</td>\n      <td>4.518215</td>\n      <td>7.670685</td>\n      <td>5.367539</td>\n    </tr>\n    <tr>\n      <th>1</th>\n      <td>Muestra_2</td>\n      <td>0.548552</td>\n      <td>380.263364</td>\n      <td>3.699061</td>\n      <td>6.159646</td>\n      <td>1.316805</td>\n    </tr>\n    <tr>\n      <th>2</th>\n      <td>Muestra_3</td>\n      <td>14.262982</td>\n      <td>146.486910</td>\n      <td>4.524591</td>\n      <td>9.697989</td>\n      <td>12.551556</td>\n    </tr>\n    <tr>\n      <th>3</th>\n      <td>Muestra_4</td>\n      <td>12.878724</td>\n      <td>221.625877</td>\n      <td>2.816365</td>\n      <td>2.969758</td>\n      <td>11.073858</td>\n    </tr>\n    <tr>\n      <th>4</th>\n      <td>Muestra_5</td>\n      <td>4.100613</td>\n      <td>357.633695</td>\n      <td>0.639888</td>\n      <td>5.578079</td>\n      <td>5.513297</td>\n    </tr>\n    <tr>\n      <th>...</th>\n      <td>...</td>\n      <td>...</td>\n      <td>...</td>\n      <td>...</td>\n      <td>...</td>\n      <td>...</td>\n    </tr>\n    <tr>\n      <th>99995</th>\n      <td>Muestra_99996</td>\n      <td>3.366599</td>\n      <td>193.452397</td>\n      <td>2.824527</td>\n      <td>1.441047</td>\n      <td>14.003040</td>\n    </tr>\n    <tr>\n      <th>99996</th>\n      <td>Muestra_99997</td>\n      <td>17.476037</td>\n      <td>64.076307</td>\n      <td>2.300197</td>\n      <td>1.682691</td>\n      <td>5.257053</td>\n    </tr>\n    <tr>\n      <th>99997</th>\n      <td>Muestra_99998</td>\n      <td>14.116685</td>\n      <td>115.946513</td>\n      <td>3.574151</td>\n      <td>9.445927</td>\n      <td>12.692747</td>\n    </tr>\n    <tr>\n      <th>99998</th>\n      <td>Muestra_99999</td>\n      <td>7.779599</td>\n      <td>354.874164</td>\n      <td>4.003477</td>\n      <td>1.927404</td>\n      <td>8.211133</td>\n    </tr>\n    <tr>\n      <th>99999</th>\n      <td>Muestra_100000</td>\n      <td>11.715476</td>\n      <td>334.425710</td>\n      <td>1.251628</td>\n      <td>5.673756</td>\n      <td>7.240216</td>\n    </tr>\n  </tbody>\n</table>\n<p>100000 rows × 6 columns</p>\n</div>"
     },
     "execution_count": 5,
     "metadata": {},
     "output_type": "execute_result"
    }
   ],
   "source": [
    "df = pd.read_csv('minerales_ley.csv')\n",
    "df"
   ],
   "metadata": {
    "collapsed": false,
    "ExecuteTime": {
     "end_time": "2023-12-06T15:41:54.306853500Z",
     "start_time": "2023-12-06T15:41:53.905199Z"
    }
   },
   "id": "2ecd124681dde95"
  },
  {
   "cell_type": "code",
   "execution_count": 6,
   "outputs": [
    {
     "data": {
      "text/plain": "           Oro (g/t)    Plata (g/t)      Cobre (%)      Plomo (%)  \\\ncount  100000.000000  100000.000000  100000.000000  100000.000000   \nmean       10.236325     252.136317       2.550388       4.998362   \nstd         5.639974     142.950528       1.415967       2.888218   \nmin         0.500114       5.004513       0.100058       0.000238   \n25%         5.340914     128.416992       1.320163       2.500894   \n50%        10.212886     252.109490       2.553347       4.994737   \n75%        15.106258     375.735777       3.776746       7.497970   \nmax        19.999956     499.996850       4.999976       9.999981   \n\n            Zinc (%)  \ncount  100000.000000  \nmean        7.529366  \nstd         4.328988  \nmin         0.000275  \n25%         3.799452  \n50%         7.535573  \n75%        11.280402  \nmax        14.999910  ",
      "text/html": "<div>\n<style scoped>\n    .dataframe tbody tr th:only-of-type {\n        vertical-align: middle;\n    }\n\n    .dataframe tbody tr th {\n        vertical-align: top;\n    }\n\n    .dataframe thead th {\n        text-align: right;\n    }\n</style>\n<table border=\"1\" class=\"dataframe\">\n  <thead>\n    <tr style=\"text-align: right;\">\n      <th></th>\n      <th>Oro (g/t)</th>\n      <th>Plata (g/t)</th>\n      <th>Cobre (%)</th>\n      <th>Plomo (%)</th>\n      <th>Zinc (%)</th>\n    </tr>\n  </thead>\n  <tbody>\n    <tr>\n      <th>count</th>\n      <td>100000.000000</td>\n      <td>100000.000000</td>\n      <td>100000.000000</td>\n      <td>100000.000000</td>\n      <td>100000.000000</td>\n    </tr>\n    <tr>\n      <th>mean</th>\n      <td>10.236325</td>\n      <td>252.136317</td>\n      <td>2.550388</td>\n      <td>4.998362</td>\n      <td>7.529366</td>\n    </tr>\n    <tr>\n      <th>std</th>\n      <td>5.639974</td>\n      <td>142.950528</td>\n      <td>1.415967</td>\n      <td>2.888218</td>\n      <td>4.328988</td>\n    </tr>\n    <tr>\n      <th>min</th>\n      <td>0.500114</td>\n      <td>5.004513</td>\n      <td>0.100058</td>\n      <td>0.000238</td>\n      <td>0.000275</td>\n    </tr>\n    <tr>\n      <th>25%</th>\n      <td>5.340914</td>\n      <td>128.416992</td>\n      <td>1.320163</td>\n      <td>2.500894</td>\n      <td>3.799452</td>\n    </tr>\n    <tr>\n      <th>50%</th>\n      <td>10.212886</td>\n      <td>252.109490</td>\n      <td>2.553347</td>\n      <td>4.994737</td>\n      <td>7.535573</td>\n    </tr>\n    <tr>\n      <th>75%</th>\n      <td>15.106258</td>\n      <td>375.735777</td>\n      <td>3.776746</td>\n      <td>7.497970</td>\n      <td>11.280402</td>\n    </tr>\n    <tr>\n      <th>max</th>\n      <td>19.999956</td>\n      <td>499.996850</td>\n      <td>4.999976</td>\n      <td>9.999981</td>\n      <td>14.999910</td>\n    </tr>\n  </tbody>\n</table>\n</div>"
     },
     "execution_count": 6,
     "metadata": {},
     "output_type": "execute_result"
    }
   ],
   "source": [
    "df.describe()"
   ],
   "metadata": {
    "collapsed": false,
    "ExecuteTime": {
     "end_time": "2023-12-06T15:42:16.881573Z",
     "start_time": "2023-12-06T15:42:16.785437700Z"
    }
   },
   "id": "162be00c4f8bf60a"
  },
  {
   "cell_type": "code",
   "execution_count": 11,
   "outputs": [
    {
     "data": {
      "text/plain": "0.6398879302762361"
     },
     "execution_count": 11,
     "metadata": {},
     "output_type": "execute_result"
    }
   ],
   "source": [
    "df.loc[4, 'Cobre (%)']"
   ],
   "metadata": {
    "collapsed": false,
    "ExecuteTime": {
     "end_time": "2023-12-04T04:02:35.477545900Z",
     "start_time": "2023-12-04T04:02:35.412619500Z"
    }
   },
   "id": "2db25aeb9d41581d"
  },
  {
   "cell_type": "code",
   "execution_count": 12,
   "outputs": [
    {
     "data": {
      "text/plain": "           ID Muestra  Cobre (%)\n0           Muestra_1   4.518215\n1           Muestra_2   3.699061\n2           Muestra_3   4.524591\n3           Muestra_4   2.816365\n4           Muestra_5   0.639888\n...               ...        ...\n99995   Muestra_99996   2.824527\n99996   Muestra_99997   2.300197\n99997   Muestra_99998   3.574151\n99998   Muestra_99999   4.003477\n99999  Muestra_100000   1.251628\n\n[100000 rows x 2 columns]",
      "text/html": "<div>\n<style scoped>\n    .dataframe tbody tr th:only-of-type {\n        vertical-align: middle;\n    }\n\n    .dataframe tbody tr th {\n        vertical-align: top;\n    }\n\n    .dataframe thead th {\n        text-align: right;\n    }\n</style>\n<table border=\"1\" class=\"dataframe\">\n  <thead>\n    <tr style=\"text-align: right;\">\n      <th></th>\n      <th>ID Muestra</th>\n      <th>Cobre (%)</th>\n    </tr>\n  </thead>\n  <tbody>\n    <tr>\n      <th>0</th>\n      <td>Muestra_1</td>\n      <td>4.518215</td>\n    </tr>\n    <tr>\n      <th>1</th>\n      <td>Muestra_2</td>\n      <td>3.699061</td>\n    </tr>\n    <tr>\n      <th>2</th>\n      <td>Muestra_3</td>\n      <td>4.524591</td>\n    </tr>\n    <tr>\n      <th>3</th>\n      <td>Muestra_4</td>\n      <td>2.816365</td>\n    </tr>\n    <tr>\n      <th>4</th>\n      <td>Muestra_5</td>\n      <td>0.639888</td>\n    </tr>\n    <tr>\n      <th>...</th>\n      <td>...</td>\n      <td>...</td>\n    </tr>\n    <tr>\n      <th>99995</th>\n      <td>Muestra_99996</td>\n      <td>2.824527</td>\n    </tr>\n    <tr>\n      <th>99996</th>\n      <td>Muestra_99997</td>\n      <td>2.300197</td>\n    </tr>\n    <tr>\n      <th>99997</th>\n      <td>Muestra_99998</td>\n      <td>3.574151</td>\n    </tr>\n    <tr>\n      <th>99998</th>\n      <td>Muestra_99999</td>\n      <td>4.003477</td>\n    </tr>\n    <tr>\n      <th>99999</th>\n      <td>Muestra_100000</td>\n      <td>1.251628</td>\n    </tr>\n  </tbody>\n</table>\n<p>100000 rows × 2 columns</p>\n</div>"
     },
     "execution_count": 12,
     "metadata": {},
     "output_type": "execute_result"
    }
   ],
   "source": [
    "data1 = df.loc[:, ['ID Muestra', 'Cobre (%)']]\n",
    "data1"
   ],
   "metadata": {
    "collapsed": false,
    "ExecuteTime": {
     "end_time": "2023-12-04T04:06:11.847504900Z",
     "start_time": "2023-12-04T04:06:11.756384800Z"
    }
   },
   "id": "40a701a6873be2a4"
  },
  {
   "cell_type": "code",
   "execution_count": 15,
   "outputs": [
    {
     "data": {
      "text/plain": "(100000, 6)"
     },
     "execution_count": 15,
     "metadata": {},
     "output_type": "execute_result"
    }
   ],
   "source": [
    "df.shape"
   ],
   "metadata": {
    "collapsed": false,
    "ExecuteTime": {
     "end_time": "2023-12-04T04:09:35.073608600Z",
     "start_time": "2023-12-04T04:09:35.035608700Z"
    }
   },
   "id": "270dbb4eae205802"
  },
  {
   "cell_type": "code",
   "execution_count": 16,
   "outputs": [
    {
     "data": {
      "text/plain": "600000"
     },
     "execution_count": 16,
     "metadata": {},
     "output_type": "execute_result"
    }
   ],
   "source": [
    "df.size"
   ],
   "metadata": {
    "collapsed": false,
    "ExecuteTime": {
     "end_time": "2023-12-04T04:09:50.297605500Z",
     "start_time": "2023-12-04T04:09:50.254003800Z"
    }
   },
   "id": "60c7f3ddde9c2baa"
  },
  {
   "cell_type": "code",
   "execution_count": 17,
   "outputs": [
    {
     "data": {
      "text/plain": "           ID Muestra  Oro (g/t)  Plata (g/t)  Cobre (%)  Plomo (%)  \\\n0           Muestra_1   8.025101   431.249577   4.518215   7.670685   \n1           Muestra_2   0.548552   380.263364   3.699061   6.159646   \n2           Muestra_3  14.262982   146.486910   4.524591   9.697989   \n3           Muestra_4  12.878724   221.625877   2.816365   2.969758   \n4           Muestra_5   4.100613   357.633695   0.639888   5.578079   \n...               ...        ...          ...        ...        ...   \n99995   Muestra_99996   3.366599   193.452397   2.824527   1.441047   \n99996   Muestra_99997  17.476037    64.076307   2.300197   1.682691   \n99997   Muestra_99998  14.116685   115.946513   3.574151   9.445927   \n99998   Muestra_99999   7.779599   354.874164   4.003477   1.927404   \n99999  Muestra_100000  11.715476   334.425710   1.251628   5.673756   \n\n        Zinc (%) Tipo de mineral  \n0       5.367539         Sulfuro  \n1       1.316805         Sulfuro  \n2      12.551556         Sulfuro  \n3      11.073858         Sulfuro  \n4       5.513297         Sulfuro  \n...          ...             ...  \n99995  14.003040         Sulfuro  \n99996   5.257053         Sulfuro  \n99997  12.692747         Sulfuro  \n99998   8.211133         Sulfuro  \n99999   7.240216         Sulfuro  \n\n[100000 rows x 7 columns]",
      "text/html": "<div>\n<style scoped>\n    .dataframe tbody tr th:only-of-type {\n        vertical-align: middle;\n    }\n\n    .dataframe tbody tr th {\n        vertical-align: top;\n    }\n\n    .dataframe thead th {\n        text-align: right;\n    }\n</style>\n<table border=\"1\" class=\"dataframe\">\n  <thead>\n    <tr style=\"text-align: right;\">\n      <th></th>\n      <th>ID Muestra</th>\n      <th>Oro (g/t)</th>\n      <th>Plata (g/t)</th>\n      <th>Cobre (%)</th>\n      <th>Plomo (%)</th>\n      <th>Zinc (%)</th>\n      <th>Tipo de mineral</th>\n    </tr>\n  </thead>\n  <tbody>\n    <tr>\n      <th>0</th>\n      <td>Muestra_1</td>\n      <td>8.025101</td>\n      <td>431.249577</td>\n      <td>4.518215</td>\n      <td>7.670685</td>\n      <td>5.367539</td>\n      <td>Sulfuro</td>\n    </tr>\n    <tr>\n      <th>1</th>\n      <td>Muestra_2</td>\n      <td>0.548552</td>\n      <td>380.263364</td>\n      <td>3.699061</td>\n      <td>6.159646</td>\n      <td>1.316805</td>\n      <td>Sulfuro</td>\n    </tr>\n    <tr>\n      <th>2</th>\n      <td>Muestra_3</td>\n      <td>14.262982</td>\n      <td>146.486910</td>\n      <td>4.524591</td>\n      <td>9.697989</td>\n      <td>12.551556</td>\n      <td>Sulfuro</td>\n    </tr>\n    <tr>\n      <th>3</th>\n      <td>Muestra_4</td>\n      <td>12.878724</td>\n      <td>221.625877</td>\n      <td>2.816365</td>\n      <td>2.969758</td>\n      <td>11.073858</td>\n      <td>Sulfuro</td>\n    </tr>\n    <tr>\n      <th>4</th>\n      <td>Muestra_5</td>\n      <td>4.100613</td>\n      <td>357.633695</td>\n      <td>0.639888</td>\n      <td>5.578079</td>\n      <td>5.513297</td>\n      <td>Sulfuro</td>\n    </tr>\n    <tr>\n      <th>...</th>\n      <td>...</td>\n      <td>...</td>\n      <td>...</td>\n      <td>...</td>\n      <td>...</td>\n      <td>...</td>\n      <td>...</td>\n    </tr>\n    <tr>\n      <th>99995</th>\n      <td>Muestra_99996</td>\n      <td>3.366599</td>\n      <td>193.452397</td>\n      <td>2.824527</td>\n      <td>1.441047</td>\n      <td>14.003040</td>\n      <td>Sulfuro</td>\n    </tr>\n    <tr>\n      <th>99996</th>\n      <td>Muestra_99997</td>\n      <td>17.476037</td>\n      <td>64.076307</td>\n      <td>2.300197</td>\n      <td>1.682691</td>\n      <td>5.257053</td>\n      <td>Sulfuro</td>\n    </tr>\n    <tr>\n      <th>99997</th>\n      <td>Muestra_99998</td>\n      <td>14.116685</td>\n      <td>115.946513</td>\n      <td>3.574151</td>\n      <td>9.445927</td>\n      <td>12.692747</td>\n      <td>Sulfuro</td>\n    </tr>\n    <tr>\n      <th>99998</th>\n      <td>Muestra_99999</td>\n      <td>7.779599</td>\n      <td>354.874164</td>\n      <td>4.003477</td>\n      <td>1.927404</td>\n      <td>8.211133</td>\n      <td>Sulfuro</td>\n    </tr>\n    <tr>\n      <th>99999</th>\n      <td>Muestra_100000</td>\n      <td>11.715476</td>\n      <td>334.425710</td>\n      <td>1.251628</td>\n      <td>5.673756</td>\n      <td>7.240216</td>\n      <td>Sulfuro</td>\n    </tr>\n  </tbody>\n</table>\n<p>100000 rows × 7 columns</p>\n</div>"
     },
     "execution_count": 17,
     "metadata": {},
     "output_type": "execute_result"
    }
   ],
   "source": [
    "df['Tipo de mineral'] = 'Sulfuro'\n",
    "df"
   ],
   "metadata": {
    "collapsed": false,
    "ExecuteTime": {
     "end_time": "2023-12-04T04:13:15.958008400Z",
     "start_time": "2023-12-04T04:13:15.891041800Z"
    }
   },
   "id": "166f03e49d8d3571"
  },
  {
   "cell_type": "code",
   "execution_count": 18,
   "outputs": [
    {
     "data": {
      "text/plain": "ID Muestra         100000\nOro (g/t)          100000\nPlata (g/t)        100000\nCobre (%)          100000\nPlomo (%)          100000\nZinc (%)           100000\nTipo de mineral    100000\ndtype: int64"
     },
     "execution_count": 18,
     "metadata": {},
     "output_type": "execute_result"
    }
   ],
   "source": [
    "df.count()"
   ],
   "metadata": {
    "collapsed": false,
    "ExecuteTime": {
     "end_time": "2023-12-04T04:17:01.800204100Z",
     "start_time": "2023-12-04T04:17:01.753201800Z"
    }
   },
   "id": "d34ae9344b6de884"
  },
  {
   "cell_type": "code",
   "execution_count": null,
   "outputs": [],
   "source": [],
   "metadata": {
    "collapsed": false
   },
   "id": "9381cb57def90d6f"
  }
 ],
 "metadata": {
  "kernelspec": {
   "display_name": "Python 3",
   "language": "python",
   "name": "python3"
  },
  "language_info": {
   "codemirror_mode": {
    "name": "ipython",
    "version": 2
   },
   "file_extension": ".py",
   "mimetype": "text/x-python",
   "name": "python",
   "nbconvert_exporter": "python",
   "pygments_lexer": "ipython2",
   "version": "2.7.6"
  }
 },
 "nbformat": 4,
 "nbformat_minor": 5
}
