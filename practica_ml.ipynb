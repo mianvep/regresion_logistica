{
 "cells": [
  {
   "cell_type": "markdown",
   "source": [
    "# Práctica supervivencia en el Titanic\n",
    "## 1.1 Carga de datos"
   ],
   "metadata": {
    "collapsed": false
   },
   "id": "75f506c7de2b93ad"
  },
  {
   "cell_type": "code",
   "execution_count": 2,
   "id": "initial_id",
   "metadata": {
    "collapsed": true,
    "ExecuteTime": {
     "end_time": "2023-12-10T22:48:54.810971400Z",
     "start_time": "2023-12-10T22:48:50.414475400Z"
    }
   },
   "outputs": [],
   "source": [
    "import pandas as pd"
   ]
  },
  {
   "cell_type": "code",
   "execution_count": 3,
   "outputs": [],
   "source": [
    "df = pd.read_csv('titanic.csv')"
   ],
   "metadata": {
    "collapsed": false,
    "ExecuteTime": {
     "end_time": "2023-12-10T22:50:44.339578100Z",
     "start_time": "2023-12-10T22:50:44.268192200Z"
    }
   },
   "id": "727af1d7fa3b7861"
  },
  {
   "cell_type": "markdown",
   "source": [
    "## 1.2 Estudio de los datos"
   ],
   "metadata": {
    "collapsed": false
   },
   "id": "75c677a642e94c70"
  },
  {
   "cell_type": "code",
   "execution_count": 15,
   "outputs": [
    {
     "data": {
      "text/plain": "   Survived  Pclass                                               Name  \\\n0         0       3                             Mr. Owen Harris Braund   \n1         1       1  Mrs. John Bradley (Florence Briggs Thayer) Cum...   \n2         1       3                              Miss. Laina Heikkinen   \n3         1       1        Mrs. Jacques Heath (Lily May Peel) Futrelle   \n4         0       3                            Mr. William Henry Allen   \n\n      Sex   Age  Siblings/Spouses Aboard  Parents/Children Aboard     Fare  \n0    male  22.0                        1                        0    7.250  \n1  female  38.0                        1                        0  712.833  \n2  female  26.0                        0                        0    7.925  \n3  female  35.0                        1                        0   53.100  \n4    male  35.0                        0                        0    8.050  ",
      "text/html": "<div>\n<style scoped>\n    .dataframe tbody tr th:only-of-type {\n        vertical-align: middle;\n    }\n\n    .dataframe tbody tr th {\n        vertical-align: top;\n    }\n\n    .dataframe thead th {\n        text-align: right;\n    }\n</style>\n<table border=\"1\" class=\"dataframe\">\n  <thead>\n    <tr style=\"text-align: right;\">\n      <th></th>\n      <th>Survived</th>\n      <th>Pclass</th>\n      <th>Name</th>\n      <th>Sex</th>\n      <th>Age</th>\n      <th>Siblings/Spouses Aboard</th>\n      <th>Parents/Children Aboard</th>\n      <th>Fare</th>\n    </tr>\n  </thead>\n  <tbody>\n    <tr>\n      <th>0</th>\n      <td>0</td>\n      <td>3</td>\n      <td>Mr. Owen Harris Braund</td>\n      <td>male</td>\n      <td>22.0</td>\n      <td>1</td>\n      <td>0</td>\n      <td>7.250</td>\n    </tr>\n    <tr>\n      <th>1</th>\n      <td>1</td>\n      <td>1</td>\n      <td>Mrs. John Bradley (Florence Briggs Thayer) Cum...</td>\n      <td>female</td>\n      <td>38.0</td>\n      <td>1</td>\n      <td>0</td>\n      <td>712.833</td>\n    </tr>\n    <tr>\n      <th>2</th>\n      <td>1</td>\n      <td>3</td>\n      <td>Miss. Laina Heikkinen</td>\n      <td>female</td>\n      <td>26.0</td>\n      <td>0</td>\n      <td>0</td>\n      <td>7.925</td>\n    </tr>\n    <tr>\n      <th>3</th>\n      <td>1</td>\n      <td>1</td>\n      <td>Mrs. Jacques Heath (Lily May Peel) Futrelle</td>\n      <td>female</td>\n      <td>35.0</td>\n      <td>1</td>\n      <td>0</td>\n      <td>53.100</td>\n    </tr>\n    <tr>\n      <th>4</th>\n      <td>0</td>\n      <td>3</td>\n      <td>Mr. William Henry Allen</td>\n      <td>male</td>\n      <td>35.0</td>\n      <td>0</td>\n      <td>0</td>\n      <td>8.050</td>\n    </tr>\n  </tbody>\n</table>\n</div>"
     },
     "execution_count": 15,
     "metadata": {},
     "output_type": "execute_result"
    }
   ],
   "source": [
    "df.head(5)"
   ],
   "metadata": {
    "collapsed": false,
    "ExecuteTime": {
     "end_time": "2023-12-10T23:06:56.813995300Z",
     "start_time": "2023-12-10T23:06:56.770994600Z"
    }
   },
   "id": "aabfd09e2dfdb3ad"
  },
  {
   "cell_type": "code",
   "execution_count": 16,
   "outputs": [],
   "source": [
    "df['Fare'] = pd.to_numeric(df['Fare'], errors='coerce')"
   ],
   "metadata": {
    "collapsed": false,
    "ExecuteTime": {
     "end_time": "2023-12-10T23:08:48.023369300Z",
     "start_time": "2023-12-10T23:08:47.998357700Z"
    }
   },
   "id": "45159ea621be3d9b"
  },
  {
   "cell_type": "code",
   "execution_count": 17,
   "outputs": [
    {
     "data": {
      "text/plain": "         Survived      Pclass         Age  Siblings/Spouses Aboard  \\\ncount  887.000000  887.000000  887.000000               887.000000   \nmean     0.385569    2.305524   29.471443                 0.525366   \nstd      0.487004    0.836662   14.121908                 1.104669   \nmin      0.000000    1.000000    0.420000                 0.000000   \n25%      0.000000    2.000000   20.250000                 0.000000   \n50%      0.000000    3.000000   28.000000                 0.000000   \n75%      1.000000    3.000000   38.000000                 1.000000   \nmax      1.000000    3.000000   80.000000                 8.000000   \n\n       Parents/Children Aboard        Fare  \ncount               887.000000  864.000000  \nmean                  0.383315   79.349947  \nstd                   0.807466  163.330312  \nmin                   0.000000    0.000000  \n25%                   0.000000    7.895800  \n50%                   0.000000   14.450000  \n75%                   0.000000   49.625000  \nmax                   6.000000  910.792000  ",
      "text/html": "<div>\n<style scoped>\n    .dataframe tbody tr th:only-of-type {\n        vertical-align: middle;\n    }\n\n    .dataframe tbody tr th {\n        vertical-align: top;\n    }\n\n    .dataframe thead th {\n        text-align: right;\n    }\n</style>\n<table border=\"1\" class=\"dataframe\">\n  <thead>\n    <tr style=\"text-align: right;\">\n      <th></th>\n      <th>Survived</th>\n      <th>Pclass</th>\n      <th>Age</th>\n      <th>Siblings/Spouses Aboard</th>\n      <th>Parents/Children Aboard</th>\n      <th>Fare</th>\n    </tr>\n  </thead>\n  <tbody>\n    <tr>\n      <th>count</th>\n      <td>887.000000</td>\n      <td>887.000000</td>\n      <td>887.000000</td>\n      <td>887.000000</td>\n      <td>887.000000</td>\n      <td>864.000000</td>\n    </tr>\n    <tr>\n      <th>mean</th>\n      <td>0.385569</td>\n      <td>2.305524</td>\n      <td>29.471443</td>\n      <td>0.525366</td>\n      <td>0.383315</td>\n      <td>79.349947</td>\n    </tr>\n    <tr>\n      <th>std</th>\n      <td>0.487004</td>\n      <td>0.836662</td>\n      <td>14.121908</td>\n      <td>1.104669</td>\n      <td>0.807466</td>\n      <td>163.330312</td>\n    </tr>\n    <tr>\n      <th>min</th>\n      <td>0.000000</td>\n      <td>1.000000</td>\n      <td>0.420000</td>\n      <td>0.000000</td>\n      <td>0.000000</td>\n      <td>0.000000</td>\n    </tr>\n    <tr>\n      <th>25%</th>\n      <td>0.000000</td>\n      <td>2.000000</td>\n      <td>20.250000</td>\n      <td>0.000000</td>\n      <td>0.000000</td>\n      <td>7.895800</td>\n    </tr>\n    <tr>\n      <th>50%</th>\n      <td>0.000000</td>\n      <td>3.000000</td>\n      <td>28.000000</td>\n      <td>0.000000</td>\n      <td>0.000000</td>\n      <td>14.450000</td>\n    </tr>\n    <tr>\n      <th>75%</th>\n      <td>1.000000</td>\n      <td>3.000000</td>\n      <td>38.000000</td>\n      <td>1.000000</td>\n      <td>0.000000</td>\n      <td>49.625000</td>\n    </tr>\n    <tr>\n      <th>max</th>\n      <td>1.000000</td>\n      <td>3.000000</td>\n      <td>80.000000</td>\n      <td>8.000000</td>\n      <td>6.000000</td>\n      <td>910.792000</td>\n    </tr>\n  </tbody>\n</table>\n</div>"
     },
     "execution_count": 17,
     "metadata": {},
     "output_type": "execute_result"
    }
   ],
   "source": [
    "df.describe()"
   ],
   "metadata": {
    "collapsed": false,
    "ExecuteTime": {
     "end_time": "2023-12-10T23:08:49.135074700Z",
     "start_time": "2023-12-10T23:08:49.081162600Z"
    }
   },
   "id": "dd7c48afbb0ff9d5"
  },
  {
   "cell_type": "markdown",
   "source": [
    "## 1.3 Preprocesamiento de los datos"
   ],
   "metadata": {
    "collapsed": false
   },
   "id": "a3767abb3bf9e5bd"
  },
  {
   "cell_type": "code",
   "execution_count": 18,
   "outputs": [],
   "source": [
    "def f(x):\n",
    "    if x == 'male':\n",
    "        return 1\n",
    "    else:\n",
    "        return 0"
   ],
   "metadata": {
    "collapsed": false,
    "ExecuteTime": {
     "end_time": "2023-12-10T23:13:36.862469Z",
     "start_time": "2023-12-10T23:13:36.844901500Z"
    }
   },
   "id": "8b8ff8a7a792e7c8"
  },
  {
   "cell_type": "code",
   "execution_count": 20,
   "outputs": [],
   "source": [
    "df['Sex'] = df['Sex'].apply(f)"
   ],
   "metadata": {
    "collapsed": false,
    "ExecuteTime": {
     "end_time": "2023-12-10T23:15:24.782375400Z",
     "start_time": "2023-12-10T23:15:24.763375Z"
    }
   },
   "id": "fa22c724f2dfccc8"
  },
  {
   "cell_type": "code",
   "execution_count": 21,
   "outputs": [
    {
     "data": {
      "text/plain": "   Survived  Pclass                                               Name  Sex  \\\n0         0       3                             Mr. Owen Harris Braund    1   \n1         1       1  Mrs. John Bradley (Florence Briggs Thayer) Cum...    0   \n2         1       3                              Miss. Laina Heikkinen    0   \n3         1       1        Mrs. Jacques Heath (Lily May Peel) Futrelle    0   \n4         0       3                            Mr. William Henry Allen    1   \n\n    Age  Siblings/Spouses Aboard  Parents/Children Aboard     Fare  \n0  22.0                        1                        0    7.250  \n1  38.0                        1                        0  712.833  \n2  26.0                        0                        0    7.925  \n3  35.0                        1                        0   53.100  \n4  35.0                        0                        0    8.050  ",
      "text/html": "<div>\n<style scoped>\n    .dataframe tbody tr th:only-of-type {\n        vertical-align: middle;\n    }\n\n    .dataframe tbody tr th {\n        vertical-align: top;\n    }\n\n    .dataframe thead th {\n        text-align: right;\n    }\n</style>\n<table border=\"1\" class=\"dataframe\">\n  <thead>\n    <tr style=\"text-align: right;\">\n      <th></th>\n      <th>Survived</th>\n      <th>Pclass</th>\n      <th>Name</th>\n      <th>Sex</th>\n      <th>Age</th>\n      <th>Siblings/Spouses Aboard</th>\n      <th>Parents/Children Aboard</th>\n      <th>Fare</th>\n    </tr>\n  </thead>\n  <tbody>\n    <tr>\n      <th>0</th>\n      <td>0</td>\n      <td>3</td>\n      <td>Mr. Owen Harris Braund</td>\n      <td>1</td>\n      <td>22.0</td>\n      <td>1</td>\n      <td>0</td>\n      <td>7.250</td>\n    </tr>\n    <tr>\n      <th>1</th>\n      <td>1</td>\n      <td>1</td>\n      <td>Mrs. John Bradley (Florence Briggs Thayer) Cum...</td>\n      <td>0</td>\n      <td>38.0</td>\n      <td>1</td>\n      <td>0</td>\n      <td>712.833</td>\n    </tr>\n    <tr>\n      <th>2</th>\n      <td>1</td>\n      <td>3</td>\n      <td>Miss. Laina Heikkinen</td>\n      <td>0</td>\n      <td>26.0</td>\n      <td>0</td>\n      <td>0</td>\n      <td>7.925</td>\n    </tr>\n    <tr>\n      <th>3</th>\n      <td>1</td>\n      <td>1</td>\n      <td>Mrs. Jacques Heath (Lily May Peel) Futrelle</td>\n      <td>0</td>\n      <td>35.0</td>\n      <td>1</td>\n      <td>0</td>\n      <td>53.100</td>\n    </tr>\n    <tr>\n      <th>4</th>\n      <td>0</td>\n      <td>3</td>\n      <td>Mr. William Henry Allen</td>\n      <td>1</td>\n      <td>35.0</td>\n      <td>0</td>\n      <td>0</td>\n      <td>8.050</td>\n    </tr>\n  </tbody>\n</table>\n</div>"
     },
     "execution_count": 21,
     "metadata": {},
     "output_type": "execute_result"
    }
   ],
   "source": [
    "df.head(5)"
   ],
   "metadata": {
    "collapsed": false,
    "ExecuteTime": {
     "end_time": "2023-12-10T23:15:27.003896100Z",
     "start_time": "2023-12-10T23:15:26.984894Z"
    }
   },
   "id": "63938c9d224df713"
  },
  {
   "cell_type": "markdown",
   "source": [
    "Eliminando outliers"
   ],
   "metadata": {
    "collapsed": false
   },
   "id": "229c1d83b676b2be"
  },
  {
   "cell_type": "code",
   "execution_count": 22,
   "outputs": [],
   "source": [
    "df = df[df['Fare'] < 200]"
   ],
   "metadata": {
    "collapsed": false,
    "ExecuteTime": {
     "end_time": "2023-12-10T23:22:18.593864800Z",
     "start_time": "2023-12-10T23:22:18.569848900Z"
    }
   },
   "id": "45da191add7af5b4"
  },
  {
   "cell_type": "code",
   "execution_count": 23,
   "outputs": [],
   "source": [
    "df = df.reset_index(drop=True)"
   ],
   "metadata": {
    "collapsed": false,
    "ExecuteTime": {
     "end_time": "2023-12-10T23:23:18.219830300Z",
     "start_time": "2023-12-10T23:23:18.198626Z"
    }
   },
   "id": "59e1b20f15e27088"
  },
  {
   "cell_type": "code",
   "execution_count": 24,
   "outputs": [
    {
     "data": {
      "text/plain": "         Survived      Pclass         Sex         Age  \\\ncount  762.000000  762.000000  762.000000  762.000000   \nmean     0.346457    2.440945    0.666667   28.813215   \nstd      0.476153    0.758519    0.471714   13.568088   \nmin      0.000000    1.000000    0.000000    0.420000   \n25%      0.000000    2.000000    0.000000   20.000000   \n50%      0.000000    3.000000    1.000000   27.500000   \n75%      1.000000    3.000000    1.000000   36.000000   \nmax      1.000000    3.000000    1.000000   80.000000   \n\n       Siblings/Spouses Aboard  Parents/Children Aboard        Fare  \ncount               762.000000               762.000000  762.000000  \nmean                  0.484252                 0.334646   27.656992  \nstd                   1.090101                 0.766981   36.764494  \nmin                   0.000000                 0.000000    0.000000  \n25%                   0.000000                 0.000000    7.895800  \n50%                   0.000000                 0.000000   12.587500  \n75%                   1.000000                 0.000000   27.000000  \nmax                   8.000000                 6.000000  199.667000  ",
      "text/html": "<div>\n<style scoped>\n    .dataframe tbody tr th:only-of-type {\n        vertical-align: middle;\n    }\n\n    .dataframe tbody tr th {\n        vertical-align: top;\n    }\n\n    .dataframe thead th {\n        text-align: right;\n    }\n</style>\n<table border=\"1\" class=\"dataframe\">\n  <thead>\n    <tr style=\"text-align: right;\">\n      <th></th>\n      <th>Survived</th>\n      <th>Pclass</th>\n      <th>Sex</th>\n      <th>Age</th>\n      <th>Siblings/Spouses Aboard</th>\n      <th>Parents/Children Aboard</th>\n      <th>Fare</th>\n    </tr>\n  </thead>\n  <tbody>\n    <tr>\n      <th>count</th>\n      <td>762.000000</td>\n      <td>762.000000</td>\n      <td>762.000000</td>\n      <td>762.000000</td>\n      <td>762.000000</td>\n      <td>762.000000</td>\n      <td>762.000000</td>\n    </tr>\n    <tr>\n      <th>mean</th>\n      <td>0.346457</td>\n      <td>2.440945</td>\n      <td>0.666667</td>\n      <td>28.813215</td>\n      <td>0.484252</td>\n      <td>0.334646</td>\n      <td>27.656992</td>\n    </tr>\n    <tr>\n      <th>std</th>\n      <td>0.476153</td>\n      <td>0.758519</td>\n      <td>0.471714</td>\n      <td>13.568088</td>\n      <td>1.090101</td>\n      <td>0.766981</td>\n      <td>36.764494</td>\n    </tr>\n    <tr>\n      <th>min</th>\n      <td>0.000000</td>\n      <td>1.000000</td>\n      <td>0.000000</td>\n      <td>0.420000</td>\n      <td>0.000000</td>\n      <td>0.000000</td>\n      <td>0.000000</td>\n    </tr>\n    <tr>\n      <th>25%</th>\n      <td>0.000000</td>\n      <td>2.000000</td>\n      <td>0.000000</td>\n      <td>20.000000</td>\n      <td>0.000000</td>\n      <td>0.000000</td>\n      <td>7.895800</td>\n    </tr>\n    <tr>\n      <th>50%</th>\n      <td>0.000000</td>\n      <td>3.000000</td>\n      <td>1.000000</td>\n      <td>27.500000</td>\n      <td>0.000000</td>\n      <td>0.000000</td>\n      <td>12.587500</td>\n    </tr>\n    <tr>\n      <th>75%</th>\n      <td>1.000000</td>\n      <td>3.000000</td>\n      <td>1.000000</td>\n      <td>36.000000</td>\n      <td>1.000000</td>\n      <td>0.000000</td>\n      <td>27.000000</td>\n    </tr>\n    <tr>\n      <th>max</th>\n      <td>1.000000</td>\n      <td>3.000000</td>\n      <td>1.000000</td>\n      <td>80.000000</td>\n      <td>8.000000</td>\n      <td>6.000000</td>\n      <td>199.667000</td>\n    </tr>\n  </tbody>\n</table>\n</div>"
     },
     "execution_count": 24,
     "metadata": {},
     "output_type": "execute_result"
    }
   ],
   "source": [
    "df.describe()"
   ],
   "metadata": {
    "collapsed": false,
    "ExecuteTime": {
     "end_time": "2023-12-10T23:23:48.563414900Z",
     "start_time": "2023-12-10T23:23:48.497895600Z"
    }
   },
   "id": "e9f9d1a54b450e07"
  },
  {
   "cell_type": "code",
   "execution_count": 25,
   "outputs": [],
   "source": [
    "x = df[['Sex', 'Age', 'Fare']].values\n",
    "y = df['Survived'].values"
   ],
   "metadata": {
    "collapsed": false,
    "ExecuteTime": {
     "end_time": "2023-12-10T23:27:38.579727600Z",
     "start_time": "2023-12-10T23:27:38.555567300Z"
    }
   },
   "id": "c2c7d844a11ea807"
  },
  {
   "cell_type": "code",
   "execution_count": 26,
   "outputs": [
    {
     "data": {
      "text/plain": "array([[ 1.   , 22.   ,  7.25 ],\n       [ 0.   , 26.   ,  7.925],\n       [ 0.   , 35.   , 53.1  ],\n       ...,\n       [ 0.   ,  7.   , 23.45 ],\n       [ 1.   , 26.   , 30.   ],\n       [ 1.   , 32.   ,  7.75 ]])"
     },
     "execution_count": 26,
     "metadata": {},
     "output_type": "execute_result"
    }
   ],
   "source": [
    "x"
   ],
   "metadata": {
    "collapsed": false,
    "ExecuteTime": {
     "end_time": "2023-12-10T23:28:26.247568800Z",
     "start_time": "2023-12-10T23:28:26.207043200Z"
    }
   },
   "id": "e286ff052ac04a5d"
  },
  {
   "cell_type": "code",
   "execution_count": 27,
   "outputs": [
    {
     "data": {
      "text/plain": "array([0, 1, 1, 0, 0, 0, 1, 1, 1, 0, 0, 0, 1, 0, 1, 0, 1, 0, 1, 1, 1, 0,\n       0, 1, 0, 1, 0, 0, 1, 0, 0, 1, 0, 0, 1, 0, 0, 1, 0, 0, 1, 1, 1, 0,\n       1, 0, 0, 1, 0, 0, 1, 1, 0, 1, 0, 0, 0, 0, 0, 0, 0, 0, 1, 1, 0, 1,\n       1, 0, 1, 1, 0, 0, 0, 0, 0, 0, 0, 0, 0, 1, 0, 0, 0, 0, 0, 0, 1, 1,\n       0, 1, 0, 0, 0, 0, 0, 0, 0, 0, 0, 0, 0, 1, 1, 0, 1, 0, 0, 0, 0, 1,\n       0, 0, 0, 0, 0, 0, 1, 1, 0, 0, 0, 1, 0, 0, 0, 0, 1, 0, 0, 0, 1, 0,\n       0, 0, 0, 1, 0, 0, 1, 1, 0, 0, 0, 0, 1, 0, 0, 0, 0, 0, 0, 1, 1, 0,\n       1, 1, 0, 0, 1, 0, 1, 1, 0, 0, 1, 0, 0, 0, 0, 0, 1, 0, 0, 1, 1, 1,\n       0, 1, 0, 0, 0, 1, 1, 0, 0, 1, 0, 0, 0, 1, 0, 1, 0, 0, 1, 0, 0, 0,\n       0, 0, 1, 0, 0, 0, 1, 0, 0, 0, 0, 0, 1, 0, 0, 0, 0, 0, 1, 1, 1, 1,\n       0, 0, 0, 0, 1, 0, 1, 1, 0, 1, 0, 0, 0, 1, 0, 0, 0, 1, 0, 0, 1, 0,\n       1, 1, 1, 0, 0, 0, 0, 0, 1, 1, 1, 0, 1, 0, 1, 1, 0, 0, 0, 0, 1, 1,\n       0, 1, 0, 0, 1, 1, 0, 0, 1, 1, 1, 0, 0, 1, 0, 0, 1, 1, 0, 1, 0, 0,\n       0, 1, 1, 1, 1, 0, 0, 0, 0, 0, 0, 0, 1, 0, 1, 1, 0, 0, 0, 0, 0, 1,\n       1, 1, 1, 0, 0, 0, 1, 0, 0, 1, 0, 1, 0, 0, 0, 1, 0, 1, 1, 1, 0, 1,\n       1, 0, 0, 0, 0, 1, 1, 0, 0, 0, 0, 0, 0, 1, 0, 0, 0, 1, 0, 1, 0, 1,\n       1, 0, 0, 0, 0, 0, 0, 1, 1, 0, 1, 1, 1, 1, 0, 0, 1, 0, 1, 0, 1, 0,\n       0, 1, 1, 1, 1, 1, 1, 0, 0, 0, 0, 1, 0, 1, 0, 1, 0, 0, 0, 0, 0, 0,\n       0, 0, 1, 0, 0, 1, 1, 0, 0, 0, 0, 0, 1, 0, 0, 0, 1, 1, 0, 0, 1, 0,\n       0, 0, 0, 0, 0, 0, 0, 0, 0, 0, 0, 1, 0, 1, 1, 0, 1, 0, 1, 0, 1, 0,\n       1, 0, 1, 0, 0, 0, 0, 1, 0, 0, 1, 0, 0, 0, 1, 0, 1, 0, 1, 1, 0, 0,\n       1, 0, 0, 1, 1, 0, 1, 0, 0, 1, 1, 0, 1, 1, 1, 0, 0, 0, 0, 0, 0, 0,\n       0, 0, 1, 1, 1, 0, 0, 1, 1, 0, 1, 1, 0, 0, 0, 1, 0, 1, 0, 0, 0, 0,\n       0, 0, 0, 1, 0, 0, 1, 0, 0, 0, 1, 0, 0, 1, 0, 0, 1, 0, 0, 1, 0, 0,\n       1, 0, 0, 1, 0, 0, 0, 0, 0, 1, 0, 1, 0, 0, 1, 0, 0, 0, 0, 1, 0, 1,\n       0, 1, 0, 1, 0, 1, 0, 1, 0, 0, 0, 0, 0, 0, 1, 0, 0, 1, 0, 0, 0, 0,\n       1, 1, 0, 0, 1, 0, 0, 0, 1, 0, 0, 0, 0, 0, 0, 0, 1, 1, 0, 0, 0, 0,\n       1, 0, 0, 0, 0, 0, 1, 1, 1, 0, 1, 0, 0, 0, 1, 0, 1, 0, 0, 0, 1, 0,\n       1, 1, 0, 0, 0, 0, 0, 0, 0, 0, 0, 0, 1, 0, 0, 1, 0, 0, 1, 0, 0, 1,\n       1, 0, 0, 1, 1, 0, 0, 0, 1, 0, 0, 1, 1, 0, 0, 0, 0, 0, 0, 0, 0, 0,\n       1, 0, 0, 1, 0, 1, 1, 0, 0, 0, 0, 1, 0, 1, 0, 0, 0, 0, 0, 0, 1, 0,\n       0, 0, 1, 1, 1, 1, 0, 0, 0, 0, 1, 0, 0, 0, 0, 0, 0, 0, 0, 0, 1, 1,\n       0, 1, 0, 1, 1, 1, 1, 0, 0, 0, 0, 0, 1, 0, 0, 1, 0, 0, 0, 0, 0, 0,\n       0, 0, 0, 1, 0, 1, 1, 1, 0, 0, 0, 0, 0, 1, 1, 0, 1, 0, 0, 0, 1, 1,\n       0, 0, 0, 1, 0, 0, 0, 0, 0, 0, 1, 0, 1, 0], dtype=int64)"
     },
     "execution_count": 27,
     "metadata": {},
     "output_type": "execute_result"
    }
   ],
   "source": [
    "y"
   ],
   "metadata": {
    "collapsed": false,
    "ExecuteTime": {
     "end_time": "2023-12-10T23:28:40.374396200Z",
     "start_time": "2023-12-10T23:28:40.313594900Z"
    }
   },
   "id": "38019600e57742da"
  },
  {
   "cell_type": "markdown",
   "source": [
    "## 1.4 Entrenamiento y testeado del modelo"
   ],
   "metadata": {
    "collapsed": false
   },
   "id": "4f80bb3db930cb23"
  },
  {
   "cell_type": "code",
   "execution_count": 28,
   "outputs": [],
   "source": [
    "from sklearn.model_selection import train_test_split"
   ],
   "metadata": {
    "collapsed": false,
    "ExecuteTime": {
     "end_time": "2023-12-10T23:33:56.713899600Z",
     "start_time": "2023-12-10T23:33:51.586079500Z"
    }
   },
   "id": "2389443b1feee921"
  },
  {
   "cell_type": "code",
   "execution_count": 29,
   "outputs": [],
   "source": [
    "x_train, x_test, y_train, y_test = train_test_split(x, y, test_size=0.3)"
   ],
   "metadata": {
    "collapsed": false,
    "ExecuteTime": {
     "end_time": "2023-12-10T23:34:00.056035Z",
     "start_time": "2023-12-10T23:34:00.045194100Z"
    }
   },
   "id": "8ebf853b61324304"
  },
  {
   "cell_type": "code",
   "execution_count": 30,
   "outputs": [
    {
     "data": {
      "text/plain": "array([[  0.    ,   8.    ,  21.075 ],\n       [  0.    ,  18.    ,   9.8417],\n       [  1.    ,  23.    ,   7.225 ],\n       ...,\n       [  1.    ,  26.    ,   8.6625],\n       [  1.    ,   4.    , 152.458 ],\n       [  1.    ,  27.    , 144.542 ]])"
     },
     "execution_count": 30,
     "metadata": {},
     "output_type": "execute_result"
    }
   ],
   "source": [
    "x_train"
   ],
   "metadata": {
    "collapsed": false,
    "ExecuteTime": {
     "end_time": "2023-12-10T23:34:06.687876200Z",
     "start_time": "2023-12-10T23:34:06.664438800Z"
    }
   },
   "id": "ea700fa54a70fdda"
  },
  {
   "cell_type": "markdown",
   "source": [
    "## 1.5 Entrenando el modelo"
   ],
   "metadata": {
    "collapsed": false
   },
   "id": "1d92960a635a52b7"
  },
  {
   "cell_type": "code",
   "execution_count": 31,
   "outputs": [],
   "source": [
    "from sklearn.linear_model import LogisticRegression"
   ],
   "metadata": {
    "collapsed": false,
    "ExecuteTime": {
     "end_time": "2023-12-10T23:37:02.706024700Z",
     "start_time": "2023-12-10T23:37:02.143963900Z"
    }
   },
   "id": "12f1303559c2f7f6"
  },
  {
   "cell_type": "code",
   "execution_count": 33,
   "outputs": [
    {
     "data": {
      "text/plain": "LogisticRegression()",
      "text/html": "<style>#sk-container-id-2 {color: black;}#sk-container-id-2 pre{padding: 0;}#sk-container-id-2 div.sk-toggleable {background-color: white;}#sk-container-id-2 label.sk-toggleable__label {cursor: pointer;display: block;width: 100%;margin-bottom: 0;padding: 0.3em;box-sizing: border-box;text-align: center;}#sk-container-id-2 label.sk-toggleable__label-arrow:before {content: \"▸\";float: left;margin-right: 0.25em;color: #696969;}#sk-container-id-2 label.sk-toggleable__label-arrow:hover:before {color: black;}#sk-container-id-2 div.sk-estimator:hover label.sk-toggleable__label-arrow:before {color: black;}#sk-container-id-2 div.sk-toggleable__content {max-height: 0;max-width: 0;overflow: hidden;text-align: left;background-color: #f0f8ff;}#sk-container-id-2 div.sk-toggleable__content pre {margin: 0.2em;color: black;border-radius: 0.25em;background-color: #f0f8ff;}#sk-container-id-2 input.sk-toggleable__control:checked~div.sk-toggleable__content {max-height: 200px;max-width: 100%;overflow: auto;}#sk-container-id-2 input.sk-toggleable__control:checked~label.sk-toggleable__label-arrow:before {content: \"▾\";}#sk-container-id-2 div.sk-estimator input.sk-toggleable__control:checked~label.sk-toggleable__label {background-color: #d4ebff;}#sk-container-id-2 div.sk-label input.sk-toggleable__control:checked~label.sk-toggleable__label {background-color: #d4ebff;}#sk-container-id-2 input.sk-hidden--visually {border: 0;clip: rect(1px 1px 1px 1px);clip: rect(1px, 1px, 1px, 1px);height: 1px;margin: -1px;overflow: hidden;padding: 0;position: absolute;width: 1px;}#sk-container-id-2 div.sk-estimator {font-family: monospace;background-color: #f0f8ff;border: 1px dotted black;border-radius: 0.25em;box-sizing: border-box;margin-bottom: 0.5em;}#sk-container-id-2 div.sk-estimator:hover {background-color: #d4ebff;}#sk-container-id-2 div.sk-parallel-item::after {content: \"\";width: 100%;border-bottom: 1px solid gray;flex-grow: 1;}#sk-container-id-2 div.sk-label:hover label.sk-toggleable__label {background-color: #d4ebff;}#sk-container-id-2 div.sk-serial::before {content: \"\";position: absolute;border-left: 1px solid gray;box-sizing: border-box;top: 0;bottom: 0;left: 50%;z-index: 0;}#sk-container-id-2 div.sk-serial {display: flex;flex-direction: column;align-items: center;background-color: white;padding-right: 0.2em;padding-left: 0.2em;position: relative;}#sk-container-id-2 div.sk-item {position: relative;z-index: 1;}#sk-container-id-2 div.sk-parallel {display: flex;align-items: stretch;justify-content: center;background-color: white;position: relative;}#sk-container-id-2 div.sk-item::before, #sk-container-id-2 div.sk-parallel-item::before {content: \"\";position: absolute;border-left: 1px solid gray;box-sizing: border-box;top: 0;bottom: 0;left: 50%;z-index: -1;}#sk-container-id-2 div.sk-parallel-item {display: flex;flex-direction: column;z-index: 1;position: relative;background-color: white;}#sk-container-id-2 div.sk-parallel-item:first-child::after {align-self: flex-end;width: 50%;}#sk-container-id-2 div.sk-parallel-item:last-child::after {align-self: flex-start;width: 50%;}#sk-container-id-2 div.sk-parallel-item:only-child::after {width: 0;}#sk-container-id-2 div.sk-dashed-wrapped {border: 1px dashed gray;margin: 0 0.4em 0.5em 0.4em;box-sizing: border-box;padding-bottom: 0.4em;background-color: white;}#sk-container-id-2 div.sk-label label {font-family: monospace;font-weight: bold;display: inline-block;line-height: 1.2em;}#sk-container-id-2 div.sk-label-container {text-align: center;}#sk-container-id-2 div.sk-container {/* jupyter's `normalize.less` sets `[hidden] { display: none; }` but bootstrap.min.css set `[hidden] { display: none !important; }` so we also need the `!important` here to be able to override the default hidden behavior on the sphinx rendered scikit-learn.org. See: https://github.com/scikit-learn/scikit-learn/issues/21755 */display: inline-block !important;position: relative;}#sk-container-id-2 div.sk-text-repr-fallback {display: none;}</style><div id=\"sk-container-id-2\" class=\"sk-top-container\"><div class=\"sk-text-repr-fallback\"><pre>LogisticRegression()</pre><b>In a Jupyter environment, please rerun this cell to show the HTML representation or trust the notebook. <br />On GitHub, the HTML representation is unable to render, please try loading this page with nbviewer.org.</b></div><div class=\"sk-container\" hidden><div class=\"sk-item\"><div class=\"sk-estimator sk-toggleable\"><input class=\"sk-toggleable__control sk-hidden--visually\" id=\"sk-estimator-id-2\" type=\"checkbox\" checked><label for=\"sk-estimator-id-2\" class=\"sk-toggleable__label sk-toggleable__label-arrow\">LogisticRegression</label><div class=\"sk-toggleable__content\"><pre>LogisticRegression()</pre></div></div></div></div></div>"
     },
     "execution_count": 33,
     "metadata": {},
     "output_type": "execute_result"
    }
   ],
   "source": [
    "model = LogisticRegression()\n",
    "model.fit(x_train, y_train)"
   ],
   "metadata": {
    "collapsed": false,
    "ExecuteTime": {
     "end_time": "2023-12-10T23:37:08.712556500Z",
     "start_time": "2023-12-10T23:37:08.674597400Z"
    }
   },
   "id": "258f33a814cae"
  },
  {
   "cell_type": "code",
   "execution_count": 35,
   "outputs": [
    {
     "name": "stdout",
     "output_type": "stream",
     "text": [
      "[1]\n"
     ]
    }
   ],
   "source": [
    "print(model.predict([[0, 5, 100]]))"
   ],
   "metadata": {
    "collapsed": false,
    "ExecuteTime": {
     "end_time": "2023-12-10T23:40:58.012336200Z",
     "start_time": "2023-12-10T23:40:57.964336800Z"
    }
   },
   "id": "e9021b2524d9608f"
  },
  {
   "cell_type": "code",
   "execution_count": 36,
   "outputs": [
    {
     "name": "stdout",
     "output_type": "stream",
     "text": [
      "[[0.20475389 0.79524611]]\n"
     ]
    }
   ],
   "source": [
    "print(model.predict_proba([[0, 5, 100]]))"
   ],
   "metadata": {
    "collapsed": false,
    "ExecuteTime": {
     "end_time": "2023-12-10T23:41:04.573825Z",
     "start_time": "2023-12-10T23:41:04.535853700Z"
    }
   },
   "id": "6e546374b9456707"
  },
  {
   "cell_type": "code",
   "execution_count": 37,
   "outputs": [
    {
     "name": "stdout",
     "output_type": "stream",
     "text": [
      "[[0.84255167 0.15744833]]\n"
     ]
    }
   ],
   "source": [
    "print(model.predict_proba([[1, 45, 20]]))"
   ],
   "metadata": {
    "collapsed": false,
    "ExecuteTime": {
     "end_time": "2023-12-10T23:42:38.550551700Z",
     "start_time": "2023-12-10T23:42:38.510052300Z"
    }
   },
   "id": "eb76fc510d6a9127"
  },
  {
   "cell_type": "markdown",
   "source": [
    "## 1.6 Evaluando el modelo"
   ],
   "metadata": {
    "collapsed": false
   },
   "id": "ff09e0c6fcd3188c"
  },
  {
   "cell_type": "code",
   "execution_count": 38,
   "outputs": [],
   "source": [
    "from sklearn.metrics import accuracy_score"
   ],
   "metadata": {
    "collapsed": false,
    "ExecuteTime": {
     "end_time": "2023-12-10T23:52:23.624639700Z",
     "start_time": "2023-12-10T23:52:23.602636100Z"
    }
   },
   "id": "75966b523f6d355b"
  },
  {
   "cell_type": "code",
   "execution_count": 39,
   "outputs": [],
   "source": [
    "y_predict = model.predict(x_test)"
   ],
   "metadata": {
    "collapsed": false,
    "ExecuteTime": {
     "end_time": "2023-12-10T23:52:26.592062600Z",
     "start_time": "2023-12-10T23:52:26.563636Z"
    }
   },
   "id": "c8ca53a6df0e5d58"
  },
  {
   "cell_type": "code",
   "execution_count": 40,
   "outputs": [
    {
     "name": "stdout",
     "output_type": "stream",
     "text": [
      "0.8078602620087336\n"
     ]
    }
   ],
   "source": [
    "print(accuracy_score(y_predict, y_test))"
   ],
   "metadata": {
    "collapsed": false,
    "ExecuteTime": {
     "end_time": "2023-12-10T23:52:29.578484600Z",
     "start_time": "2023-12-10T23:52:29.507106900Z"
    }
   },
   "id": "c0f6442df6cad3d5"
  },
  {
   "cell_type": "code",
   "execution_count": 42,
   "outputs": [],
   "source": [
    "from sklearn.metrics import confusion_matrix"
   ],
   "metadata": {
    "collapsed": false,
    "ExecuteTime": {
     "end_time": "2023-12-10T23:53:50.716184900Z",
     "start_time": "2023-12-10T23:53:50.687642300Z"
    }
   },
   "id": "df9f28b93de326db"
  },
  {
   "cell_type": "code",
   "execution_count": 43,
   "outputs": [
    {
     "name": "stdout",
     "output_type": "stream",
     "text": [
      "[[128  25]\n",
      " [ 19  57]]\n"
     ]
    }
   ],
   "source": [
    "print(confusion_matrix(y_predict, y_test))"
   ],
   "metadata": {
    "collapsed": false,
    "ExecuteTime": {
     "end_time": "2023-12-10T23:53:53.790187700Z",
     "start_time": "2023-12-10T23:53:53.758776200Z"
    }
   },
   "id": "8b169875a572e3ae"
  },
  {
   "cell_type": "markdown",
   "source": [
    "## 1.7 Guardando el modelo"
   ],
   "metadata": {
    "collapsed": false
   },
   "id": "40df2a7e463f0575"
  },
  {
   "cell_type": "code",
   "execution_count": 44,
   "outputs": [],
   "source": [
    "import pickle"
   ],
   "metadata": {
    "collapsed": false,
    "ExecuteTime": {
     "end_time": "2023-12-10T23:57:40.072017600Z",
     "start_time": "2023-12-10T23:57:40.039278900Z"
    }
   },
   "id": "2899c99b0dc46a96"
  },
  {
   "cell_type": "code",
   "execution_count": 45,
   "outputs": [],
   "source": [
    "pickle.dump(model, open('modelo.sav', 'wb'))"
   ],
   "metadata": {
    "collapsed": false,
    "ExecuteTime": {
     "end_time": "2023-12-10T23:57:41.660358600Z",
     "start_time": "2023-12-10T23:57:41.442699500Z"
    }
   },
   "id": "f11f99297078edc5"
  },
  {
   "cell_type": "code",
   "execution_count": 46,
   "outputs": [],
   "source": [
    "model_importado = pickle.load(open('modelo.sav', 'rb'))"
   ],
   "metadata": {
    "collapsed": false,
    "ExecuteTime": {
     "end_time": "2023-12-10T23:57:43.124728100Z",
     "start_time": "2023-12-10T23:57:42.895402700Z"
    }
   },
   "id": "bf0f05840452e88b"
  }
 ],
 "metadata": {
  "kernelspec": {
   "display_name": "Python 3",
   "language": "python",
   "name": "python3"
  },
  "language_info": {
   "codemirror_mode": {
    "name": "ipython",
    "version": 2
   },
   "file_extension": ".py",
   "mimetype": "text/x-python",
   "name": "python",
   "nbconvert_exporter": "python",
   "pygments_lexer": "ipython2",
   "version": "2.7.6"
  }
 },
 "nbformat": 4,
 "nbformat_minor": 5
}
